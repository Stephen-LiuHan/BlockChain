{
  "nbformat": 4,
  "nbformat_minor": 0,
  "metadata": {
    "colab": {
      "name": "DeepLearningHandsOn.ipynb",
      "version": "0.3.2",
      "provenance": [],
      "collapsed_sections": [],
      "include_colab_link": true
    },
    "kernelspec": {
      "name": "python3",
      "display_name": "Python 3"
    }
  },
  "cells": [
    {
      "cell_type": "markdown",
      "metadata": {
        "id": "view-in-github",
        "colab_type": "text"
      },
      "source": [
        "<a href=\"https://colab.research.google.com/github/Stephen-LiuHan/BlockChain/blob/master/DeepLearningHandsOn.ipynb\" target=\"_parent\"><img src=\"https://colab.research.google.com/assets/colab-badge.svg\" alt=\"Open In Colab\"/></a>"
      ]
    },
    {
      "metadata": {
        "id": "8r53NhJkUidN",
        "colab_type": "code",
        "outputId": "c7627f5f-7f0e-420c-cc8f-d482e37c15f6",
        "colab": {
          "base_uri": "https://localhost:8080/",
          "height": 533
        }
      },
      "cell_type": "code",
      "source": [
        "!pip install h5py\n",
        "!pip install tensorflow\n",
        "!pip install keras"
      ],
      "execution_count": 0,
      "outputs": [
        {
          "output_type": "stream",
          "text": [
            "Requirement already satisfied: h5py in /usr/local/lib/python3.6/dist-packages (2.8.0)\n",
            "Requirement already satisfied: six in /usr/local/lib/python3.6/dist-packages (from h5py) (1.11.0)\n",
            "Requirement already satisfied: numpy>=1.7 in /usr/local/lib/python3.6/dist-packages (from h5py) (1.14.6)\n",
            "Requirement already satisfied: tensorflow in /usr/local/lib/python3.6/dist-packages (1.12.0)\n",
            "Requirement already satisfied: numpy>=1.13.3 in /usr/local/lib/python3.6/dist-packages (from tensorflow) (1.14.6)\n",
            "Requirement already satisfied: termcolor>=1.1.0 in /usr/local/lib/python3.6/dist-packages (from tensorflow) (1.1.0)\n",
            "Requirement already satisfied: keras-applications>=1.0.6 in /usr/local/lib/python3.6/dist-packages (from tensorflow) (1.0.6)\n",
            "Requirement already satisfied: six>=1.10.0 in /usr/local/lib/python3.6/dist-packages (from tensorflow) (1.11.0)\n",
            "Requirement already satisfied: protobuf>=3.6.1 in /usr/local/lib/python3.6/dist-packages (from tensorflow) (3.6.1)\n",
            "Requirement already satisfied: keras-preprocessing>=1.0.5 in /usr/local/lib/python3.6/dist-packages (from tensorflow) (1.0.5)\n",
            "Requirement already satisfied: wheel>=0.26 in /usr/local/lib/python3.6/dist-packages (from tensorflow) (0.32.2)\n",
            "Requirement already satisfied: gast>=0.2.0 in /usr/local/lib/python3.6/dist-packages (from tensorflow) (0.2.0)\n",
            "Requirement already satisfied: tensorboard<1.13.0,>=1.12.0 in /usr/local/lib/python3.6/dist-packages (from tensorflow) (1.12.0)\n",
            "Requirement already satisfied: grpcio>=1.8.6 in /usr/local/lib/python3.6/dist-packages (from tensorflow) (1.15.0)\n",
            "Requirement already satisfied: absl-py>=0.1.6 in /usr/local/lib/python3.6/dist-packages (from tensorflow) (0.6.1)\n",
            "Requirement already satisfied: astor>=0.6.0 in /usr/local/lib/python3.6/dist-packages (from tensorflow) (0.7.1)\n",
            "Requirement already satisfied: h5py in /usr/local/lib/python3.6/dist-packages (from keras-applications>=1.0.6->tensorflow) (2.8.0)\n",
            "Requirement already satisfied: setuptools in /usr/local/lib/python3.6/dist-packages (from protobuf>=3.6.1->tensorflow) (40.5.0)\n",
            "Requirement already satisfied: werkzeug>=0.11.10 in /usr/local/lib/python3.6/dist-packages (from tensorboard<1.13.0,>=1.12.0->tensorflow) (0.14.1)\n",
            "Requirement already satisfied: markdown>=2.6.8 in /usr/local/lib/python3.6/dist-packages (from tensorboard<1.13.0,>=1.12.0->tensorflow) (3.0.1)\n",
            "Requirement already satisfied: keras in /usr/local/lib/python3.6/dist-packages (2.2.4)\n",
            "Requirement already satisfied: keras-preprocessing>=1.0.5 in /usr/local/lib/python3.6/dist-packages (from keras) (1.0.5)\n",
            "Requirement already satisfied: numpy>=1.9.1 in /usr/local/lib/python3.6/dist-packages (from keras) (1.14.6)\n",
            "Requirement already satisfied: keras-applications>=1.0.6 in /usr/local/lib/python3.6/dist-packages (from keras) (1.0.6)\n",
            "Requirement already satisfied: h5py in /usr/local/lib/python3.6/dist-packages (from keras) (2.8.0)\n",
            "Requirement already satisfied: scipy>=0.14 in /usr/local/lib/python3.6/dist-packages (from keras) (1.1.0)\n",
            "Requirement already satisfied: six>=1.9.0 in /usr/local/lib/python3.6/dist-packages (from keras) (1.11.0)\n",
            "Requirement already satisfied: pyyaml in /usr/local/lib/python3.6/dist-packages (from keras) (3.13)\n"
          ],
          "name": "stdout"
        }
      ]
    },
    {
      "metadata": {
        "id": "sc-BbzhrWt5S",
        "colab_type": "code",
        "outputId": "4815ccc7-9ab7-43ec-a57f-e035e8d1a539",
        "colab": {
          "base_uri": "https://localhost:8080/",
          "height": 65
        }
      },
      "cell_type": "code",
      "source": [
        "!ls"
      ],
      "execution_count": 0,
      "outputs": [
        {
          "output_type": "stream",
          "text": [
            "sample_data\n"
          ],
          "name": "stdout"
        }
      ]
    },
    {
      "metadata": {
        "id": "H-2jPhTTW1eZ",
        "colab_type": "code",
        "outputId": "f2ceb571-6469-429f-dc34-c1d4a72601fb",
        "colab": {
          "base_uri": "https://localhost:8080/",
          "height": 170
        }
      },
      "cell_type": "code",
      "source": [
        "from keras.models import Sequential\n",
        "from keras.layers import Dense\n",
        "\n",
        "model =Sequential()\n",
        "\n",
        "model.add(Dense(1,input_dim=8,kernel_initializer='random_uniform'))\n",
        "\n",
        "model.summary()"
      ],
      "execution_count": 0,
      "outputs": [
        {
          "output_type": "stream",
          "text": [
            "_________________________________________________________________\n",
            "Layer (type)                 Output Shape              Param #   \n",
            "=================================================================\n",
            "dense_1 (Dense)              (None, 1)                 9         \n",
            "=================================================================\n",
            "Total params: 9\n",
            "Trainable params: 9\n",
            "Non-trainable params: 0\n",
            "_________________________________________________________________\n"
          ],
          "name": "stdout"
        }
      ]
    },
    {
      "metadata": {
        "id": "J-MjVdPGXmO0",
        "colab_type": "code",
        "colab": {}
      },
      "cell_type": "code",
      "source": [
        "import os\n",
        "from time import gmtime, strftime\n",
        "from keras.callbacks import TensorBoard\n",
        "\n",
        "def make_tensorboard(set_dir_name=\"\"):\n",
        "  tictoc = strftime(\"%a_%d_%b_%Y_%H_%M_%S\",gmtime())\n",
        "  directory_name = tictoc\n",
        "  log_dir = set_dir_name+'_'+directory_name\n",
        "  os.mkdir(log_dir)\n",
        "  tensorboard = TensorBoard(log_dir=log_dir)\n",
        "  return tensorboard"
      ],
      "execution_count": 0,
      "outputs": []
    },
    {
      "metadata": {
        "id": "Q-bDThuUdQlN",
        "colab_type": "code",
        "outputId": "33a5f9f1-eaaa-449f-8585-b37e5cecb34c",
        "colab": {
          "base_uri": "https://localhost:8080/",
          "height": 2210
        }
      },
      "cell_type": "code",
      "source": [
        "from __future__ import print_function\n",
        "import numpy as np\n",
        "from keras.datasets import mnist\n",
        "from keras.models import Sequential\n",
        "from keras.layers import Dense,Activation,Dropout\n",
        "from keras.optimizers import SGD\n",
        "from keras.utils import np_utils\n",
        "\n",
        "NB_EPOCH =50\n",
        "BATCH_SIZE = 128\n",
        "VERBOSE = 1\n",
        "NB_CLASSES =10\n",
        "OPTIMIZER = SGD()\n",
        "N_HIDDEN = 128\n",
        "VALIDATION_SPLIT = 0.2\n",
        "DROPOUT=0.3\n",
        "\n",
        "(X_train,y_train),(X_test,y_test)=mnist.load_data()\n",
        "\n",
        "RESHAPED=784\n",
        "\n",
        "X_train=X_train.reshape(60000,RESHAPED)\n",
        "X_test= X_test.reshape(10000,RESHAPED)\n",
        "X_train=X_train.astype('float32')\n",
        "X_test =X_test.astype('float32')\n",
        "\n",
        "X_train/= 255\n",
        "X_test /= 255\n",
        "\n",
        "print(X_train.shape[0],'train samples')\n",
        "print(X_test.shape[0],'test samples')\n",
        "\n",
        "Y_train = np_utils.to_categorical(y_train, NB_CLASSES)\n",
        "Y_test = np_utils.to_categorical(y_test,NB_CLASSES)\n",
        "\n",
        "model = Sequential()\n",
        "model.add(Dense(N_HIDDEN, input_shape=(RESHAPED,)))\n",
        "model.add(Activation('relu'))\n",
        "model.add(Dropout(DROPOUT))\n",
        "model.add(Dense(N_HIDDEN))\n",
        "model.add(Activation('relu'))\n",
        "model.add(Dropout(DROPOUT))\n",
        "model.add(Dense(NB_CLASSES))\n",
        "model.add(Activation('softmax'))\n",
        "model.summary()\n",
        "\n",
        "callbacks = [make_tensorboard(set_dir_name='keras_MNIST_V1')]\n",
        "\n",
        "model.compile(loss='categorical_crossentropy',optimizer=OPTIMIZER,\n",
        "             metrics=['accuracy'])\n",
        "\n",
        "model.fit(X_train,Y_train,batch_size=BATCH_SIZE,epochs=NB_EPOCH,\n",
        "         callbacks=callbacks,verbose=VERBOSE,validation_split=VALIDATION_SPLIT)\n",
        "score = model.evaluate(X_test,Y_test,verbose=VERBOSE)\n",
        "print(\"¥nTest score:\",score[0])\n",
        "print(\"Test accuracy:\",score[1])"
      ],
      "execution_count": 9,
      "outputs": [
        {
          "output_type": "stream",
          "text": [
            "60000 train samples\n",
            "10000 test samples\n",
            "_________________________________________________________________\n",
            "Layer (type)                 Output Shape              Param #   \n",
            "=================================================================\n",
            "dense_6 (Dense)              (None, 128)               100480    \n",
            "_________________________________________________________________\n",
            "activation_6 (Activation)    (None, 128)               0         \n",
            "_________________________________________________________________\n",
            "dropout_1 (Dropout)          (None, 128)               0         \n",
            "_________________________________________________________________\n",
            "dense_7 (Dense)              (None, 128)               16512     \n",
            "_________________________________________________________________\n",
            "activation_7 (Activation)    (None, 128)               0         \n",
            "_________________________________________________________________\n",
            "dropout_2 (Dropout)          (None, 128)               0         \n",
            "_________________________________________________________________\n",
            "dense_8 (Dense)              (None, 10)                1290      \n",
            "_________________________________________________________________\n",
            "activation_8 (Activation)    (None, 10)                0         \n",
            "=================================================================\n",
            "Total params: 118,282\n",
            "Trainable params: 118,282\n",
            "Non-trainable params: 0\n",
            "_________________________________________________________________\n",
            "Train on 48000 samples, validate on 12000 samples\n",
            "Epoch 1/50\n",
            "48000/48000 [==============================] - 2s 44us/step - loss: 1.7089 - acc: 0.4573 - val_loss: 0.8954 - val_acc: 0.8178\n",
            "Epoch 2/50\n",
            "48000/48000 [==============================] - 2s 41us/step - loss: 0.9138 - acc: 0.7226 - val_loss: 0.5303 - val_acc: 0.8723\n",
            "Epoch 3/50\n",
            "48000/48000 [==============================] - 2s 43us/step - loss: 0.6829 - acc: 0.7920 - val_loss: 0.4263 - val_acc: 0.8898\n",
            "Epoch 4/50\n",
            "48000/48000 [==============================] - 2s 42us/step - loss: 0.5851 - acc: 0.8256 - val_loss: 0.3747 - val_acc: 0.8991\n",
            "Epoch 5/50\n",
            "48000/48000 [==============================] - 2s 43us/step - loss: 0.5301 - acc: 0.8420 - val_loss: 0.3424 - val_acc: 0.9065\n",
            "Epoch 6/50\n",
            "48000/48000 [==============================] - 2s 42us/step - loss: 0.4859 - acc: 0.8556 - val_loss: 0.3177 - val_acc: 0.9118\n",
            "Epoch 7/50\n",
            "48000/48000 [==============================] - 2s 42us/step - loss: 0.4542 - acc: 0.8646 - val_loss: 0.3000 - val_acc: 0.9156\n",
            "Epoch 8/50\n",
            "48000/48000 [==============================] - 2s 42us/step - loss: 0.4314 - acc: 0.8720 - val_loss: 0.2849 - val_acc: 0.9192\n",
            "Epoch 9/50\n",
            "48000/48000 [==============================] - 2s 42us/step - loss: 0.4085 - acc: 0.8790 - val_loss: 0.2721 - val_acc: 0.9232\n",
            "Epoch 10/50\n",
            "48000/48000 [==============================] - 2s 42us/step - loss: 0.3919 - acc: 0.8850 - val_loss: 0.2610 - val_acc: 0.9257\n",
            "Epoch 11/50\n",
            "48000/48000 [==============================] - 2s 41us/step - loss: 0.3766 - acc: 0.8907 - val_loss: 0.2524 - val_acc: 0.9282\n",
            "Epoch 12/50\n",
            "48000/48000 [==============================] - 2s 42us/step - loss: 0.3607 - acc: 0.8956 - val_loss: 0.2427 - val_acc: 0.9301\n",
            "Epoch 13/50\n",
            "48000/48000 [==============================] - 2s 41us/step - loss: 0.3479 - acc: 0.8977 - val_loss: 0.2346 - val_acc: 0.9318\n",
            "Epoch 14/50\n",
            "48000/48000 [==============================] - 2s 41us/step - loss: 0.3405 - acc: 0.8997 - val_loss: 0.2267 - val_acc: 0.9343\n",
            "Epoch 15/50\n",
            "48000/48000 [==============================] - 2s 41us/step - loss: 0.3284 - acc: 0.9039 - val_loss: 0.2210 - val_acc: 0.9366\n",
            "Epoch 16/50\n",
            "48000/48000 [==============================] - 2s 41us/step - loss: 0.3188 - acc: 0.9068 - val_loss: 0.2141 - val_acc: 0.9384\n",
            "Epoch 17/50\n",
            "48000/48000 [==============================] - 2s 42us/step - loss: 0.3091 - acc: 0.9085 - val_loss: 0.2082 - val_acc: 0.9400\n",
            "Epoch 18/50\n",
            "48000/48000 [==============================] - 2s 41us/step - loss: 0.3016 - acc: 0.9114 - val_loss: 0.2033 - val_acc: 0.9413\n",
            "Epoch 19/50\n",
            "48000/48000 [==============================] - 2s 41us/step - loss: 0.2947 - acc: 0.9142 - val_loss: 0.1983 - val_acc: 0.9426\n",
            "Epoch 20/50\n",
            "48000/48000 [==============================] - 2s 42us/step - loss: 0.2933 - acc: 0.9150 - val_loss: 0.1932 - val_acc: 0.9444\n",
            "Epoch 21/50\n",
            "48000/48000 [==============================] - 2s 41us/step - loss: 0.2840 - acc: 0.9172 - val_loss: 0.1891 - val_acc: 0.9457\n",
            "Epoch 22/50\n",
            "48000/48000 [==============================] - 2s 42us/step - loss: 0.2769 - acc: 0.9199 - val_loss: 0.1852 - val_acc: 0.9476\n",
            "Epoch 23/50\n",
            "48000/48000 [==============================] - 2s 42us/step - loss: 0.2698 - acc: 0.9207 - val_loss: 0.1816 - val_acc: 0.9497\n",
            "Epoch 24/50\n",
            "48000/48000 [==============================] - 2s 42us/step - loss: 0.2642 - acc: 0.9215 - val_loss: 0.1777 - val_acc: 0.9504\n",
            "Epoch 25/50\n",
            "48000/48000 [==============================] - 2s 41us/step - loss: 0.2619 - acc: 0.9249 - val_loss: 0.1752 - val_acc: 0.9504\n",
            "Epoch 26/50\n",
            "48000/48000 [==============================] - 2s 42us/step - loss: 0.2532 - acc: 0.9255 - val_loss: 0.1715 - val_acc: 0.9516\n",
            "Epoch 27/50\n",
            "48000/48000 [==============================] - 2s 41us/step - loss: 0.2477 - acc: 0.9294 - val_loss: 0.1682 - val_acc: 0.9525\n",
            "Epoch 28/50\n",
            "48000/48000 [==============================] - 2s 42us/step - loss: 0.2440 - acc: 0.9286 - val_loss: 0.1655 - val_acc: 0.9533\n",
            "Epoch 29/50\n",
            "48000/48000 [==============================] - 2s 42us/step - loss: 0.2391 - acc: 0.9303 - val_loss: 0.1625 - val_acc: 0.9532\n",
            "Epoch 30/50\n",
            "48000/48000 [==============================] - 2s 41us/step - loss: 0.2394 - acc: 0.9310 - val_loss: 0.1600 - val_acc: 0.9543\n",
            "Epoch 31/50\n",
            "48000/48000 [==============================] - 2s 42us/step - loss: 0.2307 - acc: 0.9333 - val_loss: 0.1580 - val_acc: 0.9557\n",
            "Epoch 32/50\n",
            "48000/48000 [==============================] - 2s 42us/step - loss: 0.2272 - acc: 0.9338 - val_loss: 0.1558 - val_acc: 0.9559\n",
            "Epoch 33/50\n",
            "48000/48000 [==============================] - 2s 41us/step - loss: 0.2270 - acc: 0.9343 - val_loss: 0.1533 - val_acc: 0.9561\n",
            "Epoch 34/50\n",
            "48000/48000 [==============================] - 2s 42us/step - loss: 0.2246 - acc: 0.9353 - val_loss: 0.1512 - val_acc: 0.9567\n",
            "Epoch 35/50\n",
            "48000/48000 [==============================] - 2s 41us/step - loss: 0.2167 - acc: 0.9372 - val_loss: 0.1487 - val_acc: 0.9573\n",
            "Epoch 36/50\n",
            "48000/48000 [==============================] - 2s 42us/step - loss: 0.2155 - acc: 0.9363 - val_loss: 0.1472 - val_acc: 0.9580\n",
            "Epoch 37/50\n",
            "48000/48000 [==============================] - 2s 42us/step - loss: 0.2139 - acc: 0.9376 - val_loss: 0.1453 - val_acc: 0.9578\n",
            "Epoch 38/50\n",
            "48000/48000 [==============================] - 2s 42us/step - loss: 0.2079 - acc: 0.9382 - val_loss: 0.1437 - val_acc: 0.9580\n",
            "Epoch 39/50\n",
            "48000/48000 [==============================] - 2s 42us/step - loss: 0.2055 - acc: 0.9403 - val_loss: 0.1421 - val_acc: 0.9588\n",
            "Epoch 40/50\n",
            "48000/48000 [==============================] - 2s 42us/step - loss: 0.2036 - acc: 0.9400 - val_loss: 0.1409 - val_acc: 0.9588\n",
            "Epoch 41/50\n",
            "48000/48000 [==============================] - 2s 42us/step - loss: 0.2026 - acc: 0.9407 - val_loss: 0.1392 - val_acc: 0.9593\n",
            "Epoch 42/50\n",
            "48000/48000 [==============================] - 2s 41us/step - loss: 0.1987 - acc: 0.9416 - val_loss: 0.1373 - val_acc: 0.9595\n",
            "Epoch 43/50\n",
            "48000/48000 [==============================] - 2s 42us/step - loss: 0.1967 - acc: 0.9429 - val_loss: 0.1361 - val_acc: 0.9602\n",
            "Epoch 44/50\n",
            "48000/48000 [==============================] - 2s 41us/step - loss: 0.1971 - acc: 0.9425 - val_loss: 0.1343 - val_acc: 0.9600\n",
            "Epoch 45/50\n",
            "48000/48000 [==============================] - 2s 42us/step - loss: 0.1893 - acc: 0.9451 - val_loss: 0.1330 - val_acc: 0.9611\n",
            "Epoch 46/50\n",
            "48000/48000 [==============================] - 2s 41us/step - loss: 0.1893 - acc: 0.9450 - val_loss: 0.1317 - val_acc: 0.9613\n",
            "Epoch 47/50\n",
            "48000/48000 [==============================] - 2s 42us/step - loss: 0.1871 - acc: 0.9452 - val_loss: 0.1308 - val_acc: 0.9608\n",
            "Epoch 48/50\n",
            "48000/48000 [==============================] - 2s 42us/step - loss: 0.1837 - acc: 0.9464 - val_loss: 0.1298 - val_acc: 0.9616\n",
            "Epoch 49/50\n",
            "48000/48000 [==============================] - 2s 42us/step - loss: 0.1845 - acc: 0.9461 - val_loss: 0.1282 - val_acc: 0.9618\n",
            "Epoch 50/50\n",
            "48000/48000 [==============================] - 2s 42us/step - loss: 0.1797 - acc: 0.9469 - val_loss: 0.1274 - val_acc: 0.9622\n",
            "10000/10000 [==============================] - 0s 28us/step\n",
            "¥nTest score: 0.12370339458659291\n",
            "Test accuracy: 0.9627\n"
          ],
          "name": "stdout"
        }
      ]
    },
    {
      "metadata": {
        "id": "Uwz5gjcEj88U",
        "colab_type": "code",
        "colab": {
          "base_uri": "https://localhost:8080/",
          "height": 561
        },
        "outputId": "0167b0bb-31c9-4f92-9281-2b782fa6065e"
      },
      "cell_type": "code",
      "source": [
        "%whos"
      ],
      "execution_count": 5,
      "outputs": [
        {
          "output_type": "stream",
          "text": [
            "Variable           Type                          Data/Info\n",
            "----------------------------------------------------------\n",
            "Activation         type                          <class 'keras.layers.core.Activation'>\n",
            "BATCH_SIZE         int                           128\n",
            "Dense              type                          <class 'keras.layers.core.Dense'>\n",
            "NB_CLASSES         int                           10\n",
            "NB_EPOCH           int                           50\n",
            "N_HiDEN            int                           128\n",
            "OPTIMIZER          SGD                           <keras.optimizers.SGD object at 0x7f6ac14e9908>\n",
            "RESHAPED           int                           784\n",
            "SGD                type                          <class 'keras.optimizers.SGD'>\n",
            "Sequential         type                          <class 'keras.engine.sequential.Sequential'>\n",
            "TensorBoard        type                          <class 'keras.callbacks.TensorBoard'>\n",
            "VALIDATION_SPLIT   float                         0.2\n",
            "VERBOSE            int                           1\n",
            "X_test             ndarray                       10000x784: 7840000 elems, type `float32`, 31360000 bytes (29.9072265625 Mb)\n",
            "X_train            ndarray                       60000x784: 47040000 elems, type `float32`, 188160000 bytes (179.443359375 Mb)\n",
            "Y_test             ndarray                       10000x10: 100000 elems, type `float32`, 400000 bytes (390.625 kb)\n",
            "Y_train            ndarray                       60000x10: 600000 elems, type `float32`, 2400000 bytes (2.288818359375 Mb)\n",
            "callbacks          list                          n=1\n",
            "gmtime             builtin_function_or_method    <built-in function gmtime>\n",
            "make_tensorboard   function                      <function make_tensorboard at 0x7f6ac15bf268>\n",
            "mnist              module                        <module 'keras.datasets.m<...>keras/datasets/mnist.py'>\n",
            "model              Sequential                    <keras.engine.sequential.<...>object at 0x7f6ac14e9c88>\n",
            "np                 module                        <module 'numpy' from '/us<...>kages/numpy/__init__.py'>\n",
            "np_utils           module                        <module 'keras.utils.np_u<...>keras/utils/np_utils.py'>\n",
            "os                 module                        <module 'os' from '/usr/lib/python3.6/os.py'>\n",
            "print_function     _Feature                      _Feature((2, 6, 0, 'alpha<...>0, 0, 'alpha', 0), 65536)\n",
            "score              list                          n=2\n",
            "strftime           builtin_function_or_method    <built-in function strftime>\n",
            "y_test             ndarray                       10000: 10000 elems, type `uint8`, 10000 bytes\n",
            "y_train            ndarray                       60000: 60000 elems, type `uint8`, 60000 bytes\n"
          ],
          "name": "stdout"
        }
      ]
    },
    {
      "metadata": {
        "id": "x7gCJjqsWMQG",
        "colab_type": "code",
        "colab": {
          "base_uri": "https://localhost:8080/",
          "height": 347
        },
        "outputId": "0b396ba7-41b6-481c-ab0c-f762840da72c"
      },
      "cell_type": "code",
      "source": [
        "from matplotlib import pyplot as plt\n",
        "\n",
        "plt.imshow(X_train[0,:].reshape(28,28))\n",
        "plt.show()"
      ],
      "execution_count": 6,
      "outputs": [
        {
          "output_type": "display_data",
          "data": {
            "image/png": "[encoded data removed]",
            "text/plain": [
              "<matplotlib.figure.Figure at 0x7f6ac15bc748>"
            ]
          },
          "metadata": {
            "tags": []
          }
        }
      ]
    },
    {
      "metadata": {
        "id": "NYN9NmuOXq0i",
        "colab_type": "code",
        "colab": {}
      },
      "cell_type": "code",
      "source": [
        ""
      ],
      "execution_count": 0,
      "outputs": []
    }
  ]
}